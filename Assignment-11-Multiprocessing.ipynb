{
 "cells": [
  {
   "cell_type": "code",
   "execution_count": null,
   "id": "fa99bc65",
   "metadata": {},
   "outputs": [],
   "source": [
    "#Q1. What is multiprocessing in python? Why is it useful?\n",
    "\n",
    "#A. Multiprocessing in Python is a built-in package that allows the system to run multiple processes simultaneously.\n",
    "#.  It will enable the breaking of applications into smaller threads that can run independently.\n"
   ]
  },
  {
   "cell_type": "code",
   "execution_count": null,
   "id": "f2acadc9",
   "metadata": {},
   "outputs": [],
   "source": [
    "#Q2. What are the differences between multiprocessing and multithreading?\n",
    "\n",
    "#A. Multiprocessing:\n",
    "\n",
    "# In multiprocessing, many processes are executed simultaneously.\n",
    "# In multiprocessing, a separate address space is created for each process.\n",
    "# Multiprocessing requires a significant amount of time and large number of resources.\n",
    "# Multiprocessing can be classified into symmetric and asymmetric multiprocessing.\n",
    "\n",
    "\n",
    "#Multithreading:\n",
    "\n",
    "# In multithreading, many threads are executed simultaneously.\n",
    "# In multithreading, a common address space is used for all the threads.\n",
    "# Multithreading requires less time and few resources to create.\n",
    "# No such classification present for multithreading.\n"
   ]
  },
  {
   "cell_type": "code",
   "execution_count": 4,
   "id": "5f7afb5c",
   "metadata": {},
   "outputs": [
    {
     "name": "stdout",
     "output_type": "stream",
     "text": [
      "main line\n",
      "module name: __main__\n",
      "parent process: 58720\n",
      "process id: 58770\n"
     ]
    },
    {
     "name": "stderr",
     "output_type": "stream",
     "text": [
      "Traceback (most recent call last):\n",
      "  File \"<string>\", line 1, in <module>\n",
      "  File \"/Users/shubham/anaconda3/lib/python3.10/multiprocessing/spawn.py\", line 116, in spawn_main\n",
      "    exitcode = _main(fd, parent_sentinel)\n",
      "  File \"/Users/shubham/anaconda3/lib/python3.10/multiprocessing/spawn.py\", line 126, in _main\n",
      "    self = reduction.pickle.load(from_parent)\n",
      "AttributeError: Can't get attribute 'f' on <module '__main__' (built-in)>\n"
     ]
    }
   ],
   "source": [
    "#Q3. Write a python code to create a process using the multiprocessing module.\n",
    "\n",
    "#A.\n",
    "\n",
    "from multiprocessing import Process\n",
    "import os\n",
    "\n",
    "def info(title):\n",
    "    print(title)\n",
    "    print('module name:', __name__)\n",
    "    print('parent process:', os.getppid())\n",
    "    print('process id:', os.getpid())\n",
    "\n",
    "def f(name):\n",
    "    info('function f')\n",
    "    print('hello', name)\n",
    "\n",
    "if __name__ == '__main__':\n",
    "    info('main line')\n",
    "    p = Process(target=f, args=('bob',))\n",
    "    p.start()\n",
    "    p.join()\n",
    "\n"
   ]
  },
  {
   "cell_type": "code",
   "execution_count": null,
   "id": "d00bfc66",
   "metadata": {},
   "outputs": [],
   "source": [
    "#Q4. What is a multiprocessing pool in python? Why is it used?\n",
    "\n",
    "#A. Python multiprocessing Pool can be used for parallel execution of a function across multiple input values, \n",
    "#.  distributing the input data across processes (data parallelism). \n",
    "\n"
   ]
  },
  {
   "cell_type": "code",
   "execution_count": null,
   "id": "d41e058b",
   "metadata": {},
   "outputs": [],
   "source": [
    "#Q5. How can we create a pool of worker processes in python using the multiprocessing module?\n",
    "\n",
    "#A.  \n",
    "\n",
    "# example of configuring the number of worker processes\n",
    "from multiprocessing.pool import Pool\n",
    " \n",
    "# protect the entry point\n",
    "if __name__ == '__main__':\n",
    "    # create a process pool with many workers\n",
    "    with Pool(60) as pool:\n",
    "        # report the status of the pool\n",
    "        print(pool)\n"
   ]
  },
  {
   "cell_type": "code",
   "execution_count": 9,
   "id": "f4104cdb",
   "metadata": {},
   "outputs": [
    {
     "name": "stdout",
     "output_type": "stream",
     "text": [
      "Done\n"
     ]
    }
   ],
   "source": [
    "#Q6. Write a python program to create 4 processes, each process should print a different number using the multiprocessing module in python.\n",
    "\n",
    "#A.\n",
    "\n",
    "from multiprocessing import Process\n",
    "\n",
    "def cube(x):\n",
    "    for x in my_numbers:\n",
    "        print('%s cube is %s' % (x, x**3))\n",
    "def evenno(x):\n",
    "    for x in my_numbers:\n",
    "        if x % 2 == 0:\n",
    "            print('%s is an even number ' % (x))\n",
    "            if __name__ == '__main__':\n",
    "                my_numbers = [3, 4, 5, 6, 7, 8]\n",
    "                my_process1 = Process(target=cube, args=('x',))\n",
    "                my_process2 = Process(target=evenno, args=('x',))\n",
    "                my_process1.start()\n",
    "                my_process2.start()\n",
    "                my_process1.join()\n",
    "                my_process2.join()\n",
    "print (\"Done\")"
   ]
  },
  {
   "cell_type": "code",
   "execution_count": null,
   "id": "32a40b64",
   "metadata": {},
   "outputs": [],
   "source": []
  },
  {
   "cell_type": "code",
   "execution_count": null,
   "id": "d504c816",
   "metadata": {},
   "outputs": [],
   "source": []
  },
  {
   "cell_type": "code",
   "execution_count": null,
   "id": "53d7d668",
   "metadata": {},
   "outputs": [],
   "source": []
  },
  {
   "cell_type": "code",
   "execution_count": null,
   "id": "e97fe87c",
   "metadata": {},
   "outputs": [],
   "source": []
  },
  {
   "cell_type": "code",
   "execution_count": null,
   "id": "84c9fbbe",
   "metadata": {},
   "outputs": [],
   "source": []
  }
 ],
 "metadata": {
  "kernelspec": {
   "display_name": "Python 3 (ipykernel)",
   "language": "python",
   "name": "python3"
  },
  "language_info": {
   "codemirror_mode": {
    "name": "ipython",
    "version": 3
   },
   "file_extension": ".py",
   "mimetype": "text/x-python",
   "name": "python",
   "nbconvert_exporter": "python",
   "pygments_lexer": "ipython3",
   "version": "3.10.9"
  }
 },
 "nbformat": 4,
 "nbformat_minor": 5
}
